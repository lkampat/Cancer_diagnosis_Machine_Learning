{
 "cells": [
  {
   "cell_type": "markdown",
   "metadata": {},
   "source": [
    "# 1- Read the dataset file “Cancer.csv”"
   ]
  },
  {
   "cell_type": "code",
   "execution_count": 1,
   "metadata": {},
   "outputs": [
    {
     "data": {
      "text/html": [
       "<div>\n",
       "<style scoped>\n",
       "    .dataframe tbody tr th:only-of-type {\n",
       "        vertical-align: middle;\n",
       "    }\n",
       "\n",
       "    .dataframe tbody tr th {\n",
       "        vertical-align: top;\n",
       "    }\n",
       "\n",
       "    .dataframe thead th {\n",
       "        text-align: right;\n",
       "    }\n",
       "</style>\n",
       "<table border=\"1\" class=\"dataframe\">\n",
       "  <thead>\n",
       "    <tr style=\"text-align: right;\">\n",
       "      <th></th>\n",
       "      <th>Clump_Thickness</th>\n",
       "      <th>Uniformity_of_Cell_Size</th>\n",
       "      <th>Uniformity_of_Cell_Shape</th>\n",
       "      <th>Marginal_Adhesion</th>\n",
       "      <th>Single_Epithelial_Cell_Size</th>\n",
       "      <th>Bare_Nuclei</th>\n",
       "      <th>Bland_Chromatin</th>\n",
       "      <th>Normal_Nucleoli</th>\n",
       "      <th>Mitoses</th>\n",
       "      <th>Malignant_Cancer</th>\n",
       "    </tr>\n",
       "  </thead>\n",
       "  <tbody>\n",
       "    <tr>\n",
       "      <th>0</th>\n",
       "      <td>5</td>\n",
       "      <td>1</td>\n",
       "      <td>1</td>\n",
       "      <td>1</td>\n",
       "      <td>2</td>\n",
       "      <td>1</td>\n",
       "      <td>3</td>\n",
       "      <td>1</td>\n",
       "      <td>1</td>\n",
       "      <td>0</td>\n",
       "    </tr>\n",
       "    <tr>\n",
       "      <th>1</th>\n",
       "      <td>5</td>\n",
       "      <td>4</td>\n",
       "      <td>4</td>\n",
       "      <td>5</td>\n",
       "      <td>7</td>\n",
       "      <td>10</td>\n",
       "      <td>3</td>\n",
       "      <td>2</td>\n",
       "      <td>1</td>\n",
       "      <td>0</td>\n",
       "    </tr>\n",
       "    <tr>\n",
       "      <th>2</th>\n",
       "      <td>3</td>\n",
       "      <td>1</td>\n",
       "      <td>1</td>\n",
       "      <td>1</td>\n",
       "      <td>2</td>\n",
       "      <td>2</td>\n",
       "      <td>3</td>\n",
       "      <td>1</td>\n",
       "      <td>1</td>\n",
       "      <td>0</td>\n",
       "    </tr>\n",
       "    <tr>\n",
       "      <th>3</th>\n",
       "      <td>6</td>\n",
       "      <td>8</td>\n",
       "      <td>8</td>\n",
       "      <td>1</td>\n",
       "      <td>3</td>\n",
       "      <td>4</td>\n",
       "      <td>3</td>\n",
       "      <td>7</td>\n",
       "      <td>1</td>\n",
       "      <td>0</td>\n",
       "    </tr>\n",
       "    <tr>\n",
       "      <th>4</th>\n",
       "      <td>4</td>\n",
       "      <td>1</td>\n",
       "      <td>1</td>\n",
       "      <td>3</td>\n",
       "      <td>2</td>\n",
       "      <td>1</td>\n",
       "      <td>3</td>\n",
       "      <td>1</td>\n",
       "      <td>1</td>\n",
       "      <td>0</td>\n",
       "    </tr>\n",
       "    <tr>\n",
       "      <th>...</th>\n",
       "      <td>...</td>\n",
       "      <td>...</td>\n",
       "      <td>...</td>\n",
       "      <td>...</td>\n",
       "      <td>...</td>\n",
       "      <td>...</td>\n",
       "      <td>...</td>\n",
       "      <td>...</td>\n",
       "      <td>...</td>\n",
       "      <td>...</td>\n",
       "    </tr>\n",
       "    <tr>\n",
       "      <th>145</th>\n",
       "      <td>3</td>\n",
       "      <td>1</td>\n",
       "      <td>1</td>\n",
       "      <td>1</td>\n",
       "      <td>2</td>\n",
       "      <td>1</td>\n",
       "      <td>2</td>\n",
       "      <td>1</td>\n",
       "      <td>1</td>\n",
       "      <td>0</td>\n",
       "    </tr>\n",
       "    <tr>\n",
       "      <th>146</th>\n",
       "      <td>9</td>\n",
       "      <td>7</td>\n",
       "      <td>7</td>\n",
       "      <td>5</td>\n",
       "      <td>5</td>\n",
       "      <td>10</td>\n",
       "      <td>7</td>\n",
       "      <td>8</td>\n",
       "      <td>3</td>\n",
       "      <td>1</td>\n",
       "    </tr>\n",
       "    <tr>\n",
       "      <th>147</th>\n",
       "      <td>10</td>\n",
       "      <td>8</td>\n",
       "      <td>8</td>\n",
       "      <td>4</td>\n",
       "      <td>10</td>\n",
       "      <td>10</td>\n",
       "      <td>8</td>\n",
       "      <td>1</td>\n",
       "      <td>1</td>\n",
       "      <td>1</td>\n",
       "    </tr>\n",
       "    <tr>\n",
       "      <th>148</th>\n",
       "      <td>1</td>\n",
       "      <td>1</td>\n",
       "      <td>1</td>\n",
       "      <td>1</td>\n",
       "      <td>2</td>\n",
       "      <td>1</td>\n",
       "      <td>3</td>\n",
       "      <td>1</td>\n",
       "      <td>1</td>\n",
       "      <td>0</td>\n",
       "    </tr>\n",
       "    <tr>\n",
       "      <th>149</th>\n",
       "      <td>5</td>\n",
       "      <td>1</td>\n",
       "      <td>1</td>\n",
       "      <td>1</td>\n",
       "      <td>2</td>\n",
       "      <td>1</td>\n",
       "      <td>3</td>\n",
       "      <td>1</td>\n",
       "      <td>1</td>\n",
       "      <td>0</td>\n",
       "    </tr>\n",
       "  </tbody>\n",
       "</table>\n",
       "<p>150 rows × 10 columns</p>\n",
       "</div>"
      ],
      "text/plain": [
       "     Clump_Thickness  Uniformity_of_Cell_Size  Uniformity_of_Cell_Shape  \\\n",
       "0                  5                        1                         1   \n",
       "1                  5                        4                         4   \n",
       "2                  3                        1                         1   \n",
       "3                  6                        8                         8   \n",
       "4                  4                        1                         1   \n",
       "..               ...                      ...                       ...   \n",
       "145                3                        1                         1   \n",
       "146                9                        7                         7   \n",
       "147               10                        8                         8   \n",
       "148                1                        1                         1   \n",
       "149                5                        1                         1   \n",
       "\n",
       "     Marginal_Adhesion  Single_Epithelial_Cell_Size  Bare_Nuclei  \\\n",
       "0                    1                            2            1   \n",
       "1                    5                            7           10   \n",
       "2                    1                            2            2   \n",
       "3                    1                            3            4   \n",
       "4                    3                            2            1   \n",
       "..                 ...                          ...          ...   \n",
       "145                  1                            2            1   \n",
       "146                  5                            5           10   \n",
       "147                  4                           10           10   \n",
       "148                  1                            2            1   \n",
       "149                  1                            2            1   \n",
       "\n",
       "     Bland_Chromatin  Normal_Nucleoli  Mitoses  Malignant_Cancer  \n",
       "0                  3                1        1                 0  \n",
       "1                  3                2        1                 0  \n",
       "2                  3                1        1                 0  \n",
       "3                  3                7        1                 0  \n",
       "4                  3                1        1                 0  \n",
       "..               ...              ...      ...               ...  \n",
       "145                2                1        1                 0  \n",
       "146                7                8        3                 1  \n",
       "147                8                1        1                 1  \n",
       "148                3                1        1                 0  \n",
       "149                3                1        1                 0  \n",
       "\n",
       "[150 rows x 10 columns]"
      ]
     },
     "execution_count": 1,
     "metadata": {},
     "output_type": "execute_result"
    }
   ],
   "source": [
    "import numpy as np\n",
    "import pandas as pd\n",
    "cancer_df = pd.read_csv(\"https://github.com/mpourhoma/CS4662/raw/master/Cancer.csv\")\n",
    "cancer_df  #checking Data Set"
   ]
  },
  {
   "cell_type": "markdown",
   "metadata": {},
   "source": [
    "# 2- Use sklearn functions to split the dataset into testing and training sets with the following parameters: test_size=0.3, random_state=2."
   ]
  },
  {
   "cell_type": "code",
   "execution_count": 2,
   "metadata": {},
   "outputs": [],
   "source": [
    "feature_cols = ['Clump_Thickness','Uniformity_of_Cell_Size','Uniformity_of_Cell_Shape',\n",
    "                'Marginal_Adhesion','Single_Epithelial_Cell_Size','Bare_Nuclei',\n",
    "                'Bland_Chromatin','Normal_Nucleoli','Mitoses']\n",
    "X = cancer_df[feature_cols] \n",
    "y = cancer_df['Malignant_Cancer']\n",
    "from sklearn.model_selection import train_test_split\n",
    "X_train, X_test, y_train, y_test = train_test_split(X, y, test_size=0.3, random_state=2)"
   ]
  },
  {
   "cell_type": "markdown",
   "metadata": {},
   "source": [
    "# 3- Use “Decision Tree Classifier” and Auc of “Decision Tree Classifier”"
   ]
  },
  {
   "cell_type": "code",
   "execution_count": 3,
   "metadata": {},
   "outputs": [
    {
     "name": "stdout",
     "output_type": "stream",
     "text": [
      " Accuracy: 0.8666666666666667\n",
      "\n",
      " Decision tree AUC: 0.8697478991596639 \n",
      "\n"
     ]
    }
   ],
   "source": [
    "from sklearn.tree import DecisionTreeClassifier\n",
    "my_decisiontree = DecisionTreeClassifier(random_state=2)\n",
    "my_decisiontree.fit(X_train, y_train)\n",
    "y_predict_dt = my_decisiontree.predict(X_test)\n",
    "\n",
    "from sklearn.metrics import accuracy_score\n",
    "accuracy_dt = accuracy_score(y_test, y_predict_dt)\n",
    "print(' Accuracy:', accuracy_dt)\n",
    "\n",
    "y_predict_dt_prob = my_decisiontree.predict_proba(X_test)\n",
    "\n",
    "\n",
    "\n",
    "import matplotlib.pyplot as plt\n",
    "from sklearn import metrics\n",
    "from sklearn.metrics import roc_curve\n",
    "from sklearn.metrics import roc_auc_score\n",
    "\n",
    "fpr, tpr, thresholds = metrics.roc_curve(y_test, y_predict_dt_prob[:,1], pos_label=1)\n",
    "\n",
    "# AUC:\n",
    "AUC_DT = metrics.auc(fpr, tpr)\n",
    "print(\"\\n Decision tree AUC:\",AUC_DT,\"\\n\")\n"
   ]
  },
  {
   "cell_type": "markdown",
   "metadata": {},
   "source": [
    "# 4- Now, we want to perform “Bagging” based on 29 “base decision tree classifiers”.\n"
   ]
  },
  {
   "cell_type": "code",
   "execution_count": 4,
   "metadata": {},
   "outputs": [],
   "source": [
    "bootstarp_size = 0.8*(X_train.shape[0])\n",
    "from sklearn.utils import resample\n",
    "predictionList=[]\n",
    "predictionListprob=[]\n",
    "\n",
    "for i in range (30):\n",
    "    \n",
    "    NewX_train, Newy_train = resample(X_train, y_train, n_samples =int(bootstarp_size) , random_state=i , replace = True)\n",
    "    Base_DecisionTree = DecisionTreeClassifier(random_state=2)\n",
    "    Base_DecisionTree.fit(NewX_train, Newy_train)\n",
    "    y_predict_dt = Base_DecisionTree.predict(X_test)\n",
    "    \n",
    "    y_predict_new_prob = Base_DecisionTree.predict_proba(X_test)\n",
    "\n",
    "    predictionList.append(y_predict_dt)\n",
    "    predictionListprob.append(y_predict_new_prob[:,1])\n",
    "    #print('Sample',i,\"\\n\",predictionList[i],\"\\n\")\n",
    "    #print(predictionListprob[1])"
   ]
  },
  {
   "cell_type": "code",
   "execution_count": 5,
   "metadata": {},
   "outputs": [
    {
     "name": "stdout",
     "output_type": "stream",
     "text": [
      "\n",
      " Accuracy of Bagging: 0.9111111111111111\n",
      "\n",
      " AUC of Bagging:  0.9380252100840336 \n",
      "\n"
     ]
    }
   ],
   "source": [
    "predictionmatrix = np.transpose(np.matrix(predictionList))\n",
    "predictionmatrix\n",
    "\n",
    "from scipy import stats\n",
    "import statistics\n",
    "newprediction=stats.mode(predictionmatrix,axis=1)\n",
    "len(newprediction[0])\n",
    "\n",
    "import itertools\n",
    "New_list = list(itertools.chain.from_iterable(newprediction[0]))\n",
    "#print(New_list)\n",
    "\n",
    "\n",
    "from sklearn.metrics import accuracy_score\n",
    "accuracy_Voting = accuracy_score(y_test, New_list)\n",
    "print('\\n','Accuracy of Bagging:', accuracy_Voting)\n",
    "\n",
    "\n",
    "voting_prob_bag=[]\n",
    "voting_prob_bag=[statistics.mean(i) for i in zip(*predictionListprob)]\n",
    "\n",
    "\n",
    "fpr1, tpr1, thresholds = metrics.roc_curve(y_test, voting_prob_bag, pos_label=1)\n",
    "\n",
    "AUC1 = metrics.auc(fpr1, tpr1)\n",
    "print('\\n AUC of Bagging: ',AUC1,\"\\n\")\n"
   ]
  },
  {
   "cell_type": "markdown",
   "metadata": {},
   "source": [
    "# 5- Use scikit-learn “Adaboost” classifier to predict Cancer and report the accuracy and AUC of your classifier"
   ]
  },
  {
   "cell_type": "code",
   "execution_count": 6,
   "metadata": {},
   "outputs": [
    {
     "name": "stdout",
     "output_type": "stream",
     "text": [
      "AdaBoost accuracy:  0.9555555555555556\n",
      "\n",
      "AdaBoost AUC:  0.9653361344537815\n"
     ]
    }
   ],
   "source": [
    "from sklearn.ensemble import AdaBoostClassifier\n",
    "my_AdaBoost = AdaBoostClassifier(n_estimators=29,random_state=2)\n",
    "my_AdaBoost.fit(X_train,y_train)\n",
    "my_AdaBoost_predict = my_AdaBoost.predict(X_test)\n",
    "my_AdaBoost_predict_prob = my_AdaBoost.predict_proba(X_test)\n",
    "AdaBoost_accuracy = accuracy_score(y_test, my_AdaBoost_predict)\n",
    "print(\"AdaBoost accuracy: \", AdaBoost_accuracy)\n",
    "\n",
    "fpr2, tpr2, thresholds3 = metrics.roc_curve(y_test, my_AdaBoost_predict_prob[:,1], pos_label=1)\n",
    "ada_AUC = metrics.auc(fpr2, tpr2)\n",
    "print(\"\\nAdaBoost AUC: \", ada_AUC)"
   ]
  },
  {
   "cell_type": "markdown",
   "metadata": {},
   "source": [
    "# 6- In this section, we use an extremely popular Boosting algorithm called “XGBoost”."
   ]
  },
  {
   "cell_type": "code",
   "execution_count": 7,
   "metadata": {},
   "outputs": [
    {
     "name": "stdout",
     "output_type": "stream",
     "text": [
      "Requirement already satisfied: xgboost in c:\\users\\billu\\anaconda3\\lib\\site-packages (1.3.3)\n",
      "Requirement already satisfied: scipy in c:\\users\\billu\\anaconda3\\lib\\site-packages (from xgboost) (1.5.0)\n",
      "Requirement already satisfied: numpy in c:\\users\\billu\\anaconda3\\lib\\site-packages (from xgboost) (1.18.5)\n"
     ]
    }
   ],
   "source": [
    "import pip\n",
    "!pip install xgboost"
   ]
  },
  {
   "cell_type": "code",
   "execution_count": 8,
   "metadata": {},
   "outputs": [
    {
     "name": "stdout",
     "output_type": "stream",
     "text": [
      "[17:37:37] WARNING: C:/Users/Administrator/workspace/xgboost-win64_release_1.3.0/src/learner.cc:1061: Starting in XGBoost 1.3.0, the default evaluation metric used with the objective 'binary:logistic' was changed from 'error' to 'logloss'. Explicitly set eval_metric if you'd like to restore the old behavior.\n",
      "\n",
      " XGBoost accuracy:  0.9555555555555556\n",
      "\n",
      " XGBoost AUC:  0.9716386554621849\n"
     ]
    },
    {
     "name": "stderr",
     "output_type": "stream",
     "text": [
      "C:\\Users\\billu\\anaconda3\\lib\\site-packages\\xgboost\\sklearn.py:888: UserWarning: The use of label encoder in XGBClassifier is deprecated and will be removed in a future release. To remove this warning, do the following: 1) Pass option use_label_encoder=False when constructing XGBClassifier object; and 2) Encode your labels (y) as integers starting with 0, i.e. 0, 1, 2, ..., [num_class - 1].\n",
      "  warnings.warn(label_encoder_deprecation_msg, UserWarning)\n"
     ]
    }
   ],
   "source": [
    "from   xgboost   import   XGBClassifier\n",
    "my_XGBoost = XGBClassifier(n_estimators = 29,random_state=2)\n",
    "my_XGBoost.fit(X_train,y_train)\n",
    "my_XGBoost_predict = my_XGBoost.predict(X_test)\n",
    "my_XGBoost_predict_prob = my_XGBoost.predict_proba(X_test)\n",
    "XGBoost_accuracy = accuracy_score(y_test, my_XGBoost_predict)\n",
    "print(\"\\n XGBoost accuracy: \", XGBoost_accuracy)\n",
    "\n",
    "fpr3, tpr3, thresholds3 = metrics.roc_curve(y_test, my_XGBoost_predict_prob[:,1], pos_label=1)\n",
    "XGB_AUC = metrics.auc(fpr3, tpr3)\n",
    "print(\"\\n XGBoost AUC: \", XGB_AUC)"
   ]
  },
  {
   "cell_type": "markdown",
   "metadata": {},
   "source": [
    "# 7- Use scikit-learn “Random Forest” classifier to predict Cancer and report the accuracy and AUC of your classifier"
   ]
  },
  {
   "cell_type": "code",
   "execution_count": 9,
   "metadata": {},
   "outputs": [
    {
     "name": "stdout",
     "output_type": "stream",
     "text": [
      "\n",
      " RF accuracy:  0.9555555555555556\n",
      "\n",
      " RFC AUC:  0.9516806722689075 \n",
      "\n"
     ]
    }
   ],
   "source": [
    "from sklearn.ensemble import RandomForestClassifier\n",
    "\n",
    "my_RandomForest = RandomForestClassifier(n_estimators = 29, bootstrap = True, random_state=2)\n",
    "my_RandomForest.fit(X_train,y_train)\n",
    "my_RandomForest_predict = my_RandomForest.predict(X_test)\n",
    "my_RandomForest_predict_prob = my_RandomForest.predict_proba(X_test)\n",
    "my_RandomForest_accuracy = accuracy_score(y_test, my_RandomForest_predict)\n",
    "print(\"\\n RF accuracy: \", my_RandomForest_accuracy)\n",
    "\n",
    "fpr4, tpr4, thresholds4 = metrics.roc_curve(y_test, my_RandomForest_predict_prob[:,1], pos_label=1)\n",
    "RFC_AUC = metrics.auc(fpr4, tpr4)\n",
    "print(\"\\n RFC AUC: \", RFC_AUC,\"\\n\")\n"
   ]
  },
  {
   "cell_type": "markdown",
   "metadata": {},
   "source": [
    "# 8- Now, plot the ROC curves of your algorithms"
   ]
  },
  {
   "cell_type": "code",
   "execution_count": 17,
   "metadata": {},
   "outputs": [
    {
     "data": {
      "image/png": "[encoded data removed]",
      "text/plain": [
       "<Figure size 432x288 with 1 Axes>"
      ]
     },
     "metadata": {
      "needs_background": "light"
     },
     "output_type": "display_data"
    }
   ],
   "source": [
    "plt.plot(fpr, tpr, color='Red', label='Decision Tree , auc='+str(AUC_DT))\n",
    "plt.plot(fpr1, tpr1, color='Green', label='Bagging, auc='+str(AUC1))\n",
    "plt.plot(fpr2, tpr2, color='blue', label='Adaboost, auc='+str(ada_AUC))\n",
    "plt.plot(fpr3, tpr3, color='purple', label='XGBoost, auc='+str(XGB_AUC))\n",
    "plt.plot(fpr4, tpr4, color='orange', label='Random Forest, auc='+str(RFC_AUC))\n",
    "\n",
    "plt.plot([0, 1], [0, 1], color='black', linestyle='--')\n",
    "plt.title('Cancer Diagnosis')\n",
    "plt.xlabel('False Positive Rate')\n",
    "plt.ylabel('True Positive Rate')\n",
    "plt.legend(loc=\"lower right\")\n",
    "\n",
    "plt.show()"
   ]
  },
  {
   "cell_type": "markdown",
   "metadata": {},
   "source": [
    "### Which algorithm is the best w.r.t the AUC value?\n",
    "\n",
    "##### XGBoost (auc- 0.971638) is the best algorithm.\n",
    "\n",
    "### Which algorithm is the best w.r.t the Accuracy value?\n",
    "\n",
    "##### Random Forest Classifier, XGBClassifier & AdaBoostClassifier (Accuracy-0.95555555555) are the best algorithms.\n",
    "\n",
    "### Which algorithm is the best when we want a False Positive Rate of %7?\n",
    "\n",
    "##### Random Forest Classifier is the best algorithms.\n",
    "\n"
   ]
  }
 ],
 "metadata": {
  "kernelspec": {
   "display_name": "Python 3",
   "language": "python",
   "name": "python3"
  },
  "language_info": {
   "codemirror_mode": {
    "name": "ipython",
    "version": 3
   },
   "file_extension": ".py",
   "mimetype": "text/x-python",
   "name": "python",
   "nbconvert_exporter": "python",
   "pygments_lexer": "ipython3",
   "version": "3.8.3"
  }
 },
 "nbformat": 4,
 "nbformat_minor": 4
}
